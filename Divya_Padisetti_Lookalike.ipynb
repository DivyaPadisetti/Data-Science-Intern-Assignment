{
 "cells": [
  {
   "cell_type": "markdown",
   "id": "6155f342",
   "metadata": {},
   "source": [
    "# Lookalike model development "
   ]
  },
  {
   "cell_type": "markdown",
   "id": "357763b4",
   "metadata": {},
   "source": [
    "# Step 1 : Loading the data sets\n",
    "We are going to import necessary libraries and data sets"
   ]
  },
  {
   "cell_type": "code",
   "execution_count": 1,
   "id": "02e65909",
   "metadata": {},
   "outputs": [],
   "source": [
    "import pandas as pd"
   ]
  },
  {
   "cell_type": "code",
   "execution_count": 3,
   "id": "c459b6fc",
   "metadata": {},
   "outputs": [],
   "source": [
    "customers = pd.read_csv('Customers.csv')\n",
    "products = pd.read_csv('Products.csv')\n",
    "transactions = pd.read_csv('Transactions.csv')"
   ]
  },
  {
   "cell_type": "code",
   "execution_count": 4,
   "id": "e15a345f",
   "metadata": {},
   "outputs": [
    {
     "name": "stdout",
     "output_type": "stream",
     "text": [
      "  CustomerID        CustomerName         Region  SignupDate\n",
      "0      C0001    Lawrence Carroll  South America  2022-07-10\n",
      "1      C0002      Elizabeth Lutz           Asia  2022-02-13\n",
      "2      C0003      Michael Rivera  South America  2024-03-07\n",
      "3      C0004  Kathleen Rodriguez  South America  2022-10-09\n",
      "4      C0005         Laura Weber           Asia  2022-08-15\n",
      "  ProductID              ProductName     Category   Price\n",
      "0      P001     ActiveWear Biography        Books  169.30\n",
      "1      P002    ActiveWear Smartwatch  Electronics  346.30\n",
      "2      P003  ComfortLiving Biography        Books   44.12\n",
      "3      P004            BookWorld Rug   Home Decor   95.69\n",
      "4      P005          TechPro T-Shirt     Clothing  429.31\n",
      "  TransactionID CustomerID ProductID      TransactionDate  Quantity  \\\n",
      "0        T00001      C0199      P067  2024-08-25 12:38:23         1   \n",
      "1        T00112      C0146      P067  2024-05-27 22:23:54         1   \n",
      "2        T00166      C0127      P067  2024-04-25 07:38:55         1   \n",
      "3        T00272      C0087      P067  2024-03-26 22:55:37         2   \n",
      "4        T00363      C0070      P067  2024-03-21 15:10:10         3   \n",
      "\n",
      "   TotalValue   Price  \n",
      "0      300.68  300.68  \n",
      "1      300.68  300.68  \n",
      "2      300.68  300.68  \n",
      "3      601.36  300.68  \n",
      "4      902.04  300.68  \n"
     ]
    }
   ],
   "source": [
    "print(customers.head())\n",
    "print(products.head())\n",
    "print(transactions.head())"
   ]
  },
  {
   "cell_type": "markdown",
   "id": "de89a42d",
   "metadata": {},
   "source": [
    "## Step 2 : Merging the data sets \n",
    "We will merge the transaction data and customers data to create a data set"
   ]
  },
  {
   "cell_type": "code",
   "execution_count": 5,
   "id": "0c0f09fc",
   "metadata": {},
   "outputs": [],
   "source": [
    "merged_data = transactions.merge(customers, on='CustomerID')"
   ]
  },
  {
   "cell_type": "markdown",
   "id": "d67a190a",
   "metadata": {},
   "source": [
    "## Step 3 : Creating features for each customer\n",
    "We will summarize the transaction data to create features that represent customer behavior, such as total quantity purchased and total spending"
   ]
  },
  {
   "cell_type": "code",
   "execution_count": 6,
   "id": "0727beca",
   "metadata": {},
   "outputs": [
    {
     "name": "stdout",
     "output_type": "stream",
     "text": [
      "  CustomerID  Quantity  TotalValue         Region\n",
      "0      C0001        12     3354.52  South America\n",
      "1      C0002        10     1862.74           Asia\n",
      "2      C0003        14     2725.38  South America\n",
      "3      C0004        23     5354.88  South America\n",
      "4      C0005         7     2034.24           Asia\n"
     ]
    }
   ],
   "source": [
    "features = merged_data.groupby('CustomerID').agg({\n",
    "    'Quantity': 'sum',              # Total quantity purchased\n",
    "    'TotalValue': 'sum',            # Total spending\n",
    "    'Region': 'first',              # The first region\n",
    "}).reset_index()\n",
    "\n",
    "print(features.head())  # Checking the new features created\n"
   ]
  },
  {
   "cell_type": "markdown",
   "id": "55468bb6",
   "metadata": {},
   "source": [
    "## Step 4: Calculate Similarity Scores\n",
    "To find similar customers, we will use cosine similarity based on the features we created"
   ]
  },
  {
   "cell_type": "code",
   "execution_count": 9,
   "id": "2183df7e",
   "metadata": {},
   "outputs": [],
   "source": [
    "from sklearn.metrics.pairwise import cosine_similarity\n",
    "\n",
    "# Normalizing the features for similarity calculation\n",
    "features_normalized = features[['Quantity', 'TotalValue']].values\n",
    "similarity_matrix = cosine_similarity(features_normalized)\n",
    "\n",
    "# Function to get top 3 lookalikes for a given customer ID\n",
    "def get_lookalikes(customer_id):\n",
    "    index = features[features['CustomerID'] == customer_id].index[0]\n",
    "    similar_indices = similarity_matrix[index].argsort()[-4:-1][::-1]  # Get top 3 excluding self\n",
    "    return features.iloc[similar_indices][['CustomerID']], similarity_matrix[index][similar_indices]\n",
    "\n",
    "# Getting lookalikes for the first 20 customers\n",
    "lookalikes = {}\n",
    "for customer in features['CustomerID'].head(20):\n",
    "    lookalike_ids, scores = get_lookalikes(customer)\n",
    "    lookalikes[customer] = list(zip(lookalike_ids['CustomerID'], scores))\n"
   ]
  },
  {
   "cell_type": "markdown",
   "id": "ef443960",
   "metadata": {},
   "source": [
    "## Step 5: Save Lookalike Results\n",
    "Finally, we will save our results in a CSV file"
   ]
  },
  {
   "cell_type": "code",
   "execution_count": 12,
   "id": "3a3b99f6",
   "metadata": {},
   "outputs": [],
   "source": [
    "# Prepare data for saving into DataFrame\n",
    "lookalike_records = []\n",
    "\n",
    "for cust_id, similar_customers in lookalikes.items():\n",
    "    for similar_customer in similar_customers:\n",
    "        lookalike_records.append({\n",
    "            'CustomerID': cust_id,\n",
    "            'Lookalike_ID': similar_customer[0],\n",
    "            'Score': similar_customer[1]\n",
    "        })\n",
    "\n",
    "# Create DataFrame from records\n",
    "lookalike_df = pd.DataFrame(lookalike_records)\n",
    "\n",
    "# Save results to CSV file\n",
    "lookalike_df.to_csv('Lookalike.csv', index=False)\n"
   ]
  },
  {
   "cell_type": "code",
   "execution_count": null,
   "id": "9890f40c",
   "metadata": {},
   "outputs": [],
   "source": []
  }
 ],
 "metadata": {
  "kernelspec": {
   "display_name": "Python 3 (ipykernel)",
   "language": "python",
   "name": "python3"
  },
  "language_info": {
   "codemirror_mode": {
    "name": "ipython",
    "version": 3
   },
   "file_extension": ".py",
   "mimetype": "text/x-python",
   "name": "python",
   "nbconvert_exporter": "python",
   "pygments_lexer": "ipython3",
   "version": "3.11.5"
  }
 },
 "nbformat": 4,
 "nbformat_minor": 5
}
